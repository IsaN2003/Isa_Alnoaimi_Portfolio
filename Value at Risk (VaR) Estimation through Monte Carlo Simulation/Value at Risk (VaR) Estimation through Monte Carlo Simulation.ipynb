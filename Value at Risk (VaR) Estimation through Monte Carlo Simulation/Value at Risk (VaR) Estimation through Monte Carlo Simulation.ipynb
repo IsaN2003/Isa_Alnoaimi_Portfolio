{
 "cells": [
  {
   "cell_type": "markdown",
   "id": "e1e4eb9f-2851-4ec5-ad43-ad98f03579d7",
   "metadata": {},
   "source": [
    "### 1. The necessary libraries were imported"
   ]
  },
  {
   "cell_type": "code",
   "execution_count": 57,
   "id": "28e48a5f-9d6c-423a-b04d-3dfd9b4c08f0",
   "metadata": {},
   "outputs": [],
   "source": [
    "import pandas as pd\n",
    "import matplotlib.pyplot as plt\n",
    "import datetime as dt\n",
    "import yfinance as yf\n",
    "import numpy as np\n",
    "from scipy.stats import norm"
   ]
  },
  {
   "cell_type": "markdown",
   "id": "f7ab0795-7864-43f6-9a8a-7a39b73b5180",
   "metadata": {},
   "source": [
    "### 2. The tickers for this analysis were downloaded from Yahoo Finance, and the downloaded data was displayed"
   ]
  },
  {
   "cell_type": "code",
   "execution_count": 59,
   "id": "4f273ac4-aeb3-41d6-b544-29e3a1136d55",
   "metadata": {},
   "outputs": [
    {
     "name": "stderr",
     "output_type": "stream",
     "text": [
      "[*********************100%***********************]  1 of 1 completed\n",
      "[*********************100%***********************]  1 of 1 completed\n",
      "[*********************100%***********************]  1 of 1 completed\n",
      "[*********************100%***********************]  1 of 1 completed\n",
      "[*********************100%***********************]  1 of 1 completed"
     ]
    },
    {
     "name": "stdout",
     "output_type": "stream",
     "text": [
      "\n",
      "Ticker: GOOG \n",
      "                  Open       High        Low      Close  Adj Close    Volume\n",
      "Date                                                                       \n",
      "2021-01-04  87.876999  88.032501  85.392502  86.412003  86.200310  38038000\n",
      "2021-01-05  86.250000  87.383499  85.900749  87.045998  86.832756  22906000\n",
      "2021-01-06  85.131500  87.400002  84.949997  86.764503  86.551941  52042000\n",
      "2021-01-07  87.002998  89.419998  86.852501  89.362503  89.143585  45300000\n",
      "2021-01-08  89.399002  90.491997  88.676750  90.360497  90.139130  41012000\n",
      "\n",
      "Ticker: PLTR \n",
      "                  Open       High        Low      Close  Adj Close    Volume\n",
      "Date                                                                       \n",
      "2021-01-04  23.910000  24.500000  22.500000  23.370001  23.370001  44970400\n",
      "2021-01-05  23.180000  24.670000  22.889999  24.600000  24.600000  29050400\n",
      "2021-01-06  24.120001  24.459999  23.250000  23.540001  23.540001  32732900\n",
      "2021-01-07  24.020000  25.190001  23.670000  25.000000  25.000000  32240000\n",
      "2021-01-08  25.700001  26.440001  24.700001  25.200001  25.200001  41313800\n",
      "\n",
      "Ticker: TLT \n",
      "                   Open        High         Low       Close   Adj Close  \\\n",
      "Date                                                                     \n",
      "2021-01-04  156.669998  158.179993  156.539993  157.539993  142.684525   \n",
      "2021-01-05  156.949997  156.949997  155.660004  156.369995  141.624863   \n",
      "2021-01-06  153.820007  153.850006  152.289993  153.160004  138.717499   \n",
      "2021-01-07  151.789993  152.169998  151.259995  151.809998  137.494812   \n",
      "2021-01-08  151.479996  151.960007  150.660004  151.320007  137.051056   \n",
      "\n",
      "              Volume  \n",
      "Date                  \n",
      "2021-01-04  13152900  \n",
      "2021-01-05  10458100  \n",
      "2021-01-06  22827300  \n",
      "2021-01-07  14651900  \n",
      "2021-01-08  13622500  \n",
      "\n",
      "Ticker: GLD \n",
      "                   Open        High         Low       Close   Adj Close  \\\n",
      "Date                                                                     \n",
      "2021-01-04  181.970001  182.399994  180.960007  182.330002  182.330002   \n",
      "2021-01-05  182.869995  183.210007  181.820007  182.869995  182.869995   \n",
      "2021-01-06  181.490005  181.580002  178.240005  179.899994  179.899994   \n",
      "2021-01-07  179.690002  179.919998  178.839996  179.479996  179.479996   \n",
      "2021-01-08  176.830002  176.990005  171.479996  173.339996  173.339996   \n",
      "\n",
      "              Volume  \n",
      "Date                  \n",
      "2021-01-04  14331400  \n",
      "2021-01-05  12718800  \n",
      "2021-01-06  18453500  \n",
      "2021-01-07   7110200  \n",
      "2021-01-08  24399900  \n",
      "\n",
      "Ticker: CL=F \n",
      "                  Open       High        Low      Close  Adj Close  Volume\n",
      "Date                                                                     \n",
      "2021-01-04  48.400002  49.830002  47.180000  47.619999  47.619999  528525\n",
      "2021-01-05  47.380001  50.200001  47.240002  49.930000  49.930000  643191\n",
      "2021-01-06  49.820000  50.939999  49.480000  50.630001  50.630001  509365\n",
      "2021-01-07  50.529999  51.279999  50.389999  50.830002  50.830002  369292\n",
      "2021-01-08  50.930000  52.750000  50.810001  52.240002  52.240002  499416\n"
     ]
    },
    {
     "name": "stderr",
     "output_type": "stream",
     "text": [
      "\n"
     ]
    }
   ],
   "source": [
    "tickers=[\"GOOG\",\"PLTR\",\"TLT\",\"GLD\",\"CL=F\"]\n",
    "\n",
    "start_date=\"2021-01-01\"\n",
    "end_date=\"2024-09-10\"\n",
    "\n",
    "for ticker in tickers:\n",
    "    data=yf.download(ticker, start=start_date, end=end_date)\n",
    "    print(\"\\nTicker:\", ticker,\"\\n\", data.head())"
   ]
  },
  {
   "cell_type": "code",
   "execution_count": 60,
   "id": "9ab872b3-3f1a-48a4-a091-ae54b921d23d",
   "metadata": {},
   "outputs": [
    {
     "name": "stderr",
     "output_type": "stream",
     "text": [
      "[*********************100%***********************]  1 of 1 completed\n",
      "[*********************100%***********************]  1 of 1 completed\n",
      "[*********************100%***********************]  1 of 1 completed\n",
      "[*********************100%***********************]  1 of 1 completed\n",
      "[*********************100%***********************]  1 of 1 completed\n"
     ]
    },
    {
     "name": "stdout",
     "output_type": "stream",
     "text": [
      "                  GOOG       PLTR         TLT         GLD       CL=F\n",
      "Date                                                                \n",
      "2021-01-04   86.200310  23.370001  142.684525  182.330002  47.619999\n",
      "2021-01-05   86.832756  24.600000  141.624863  182.869995  49.930000\n",
      "2021-01-06   86.551941  23.540001  138.717499  179.899994  50.630001\n",
      "2021-01-07   89.143585  25.000000  137.494812  179.479996  50.830002\n",
      "2021-01-08   90.139130  25.200001  137.051056  173.339996  52.240002\n",
      "...                ...        ...         ...         ...        ...\n",
      "2024-09-03  158.401489  30.510000   97.750000  230.289993  70.339996\n",
      "2024-09-04  157.602539  30.590000   99.010002  230.429993  69.199997\n",
      "2024-09-05  158.391510  30.160000   99.570000  232.350006  69.150002\n",
      "2024-09-06  151.930008  30.330000   99.559998  230.630005  67.669998\n",
      "2024-09-09  149.539993  34.599998   99.989998  231.600006  68.709999\n",
      "\n",
      "[926 rows x 5 columns]\n"
     ]
    }
   ],
   "source": [
    "adj_close=pd.DataFrame()\n",
    "\n",
    "for ticker in tickers:\n",
    "    data=yf.download(ticker, start=start_date, end=end_date)\n",
    "    adj_close[ticker]=data['Adj Close']\n",
    "\n",
    "print(adj_close)"
   ]
  },
  {
   "cell_type": "markdown",
   "id": "eae2dfbb-43ce-44bc-a77c-87c21c8f0192",
   "metadata": {},
   "source": [
    "### 3. The log returns of the tickers were calculated "
   ]
  },
  {
   "cell_type": "code",
   "execution_count": 62,
   "id": "c7ba615c-78b8-422c-b5a2-33f1dae20b7b",
   "metadata": {},
   "outputs": [
    {
     "name": "stderr",
     "output_type": "stream",
     "text": [
      "[*********************100%***********************]  1 of 1 completed\n",
      "[*********************100%***********************]  1 of 1 completed\n",
      "[*********************100%***********************]  1 of 1 completed\n",
      "[*********************100%***********************]  1 of 1 completed\n",
      "[*********************100%***********************]  1 of 1 completed\n"
     ]
    },
    {
     "name": "stdout",
     "output_type": "stream",
     "text": [
      "                GOOG      PLTR       TLT       GLD      CL=F\n",
      "Date                                                        \n",
      "2021-01-05  0.007310  0.051293 -0.007454  0.002957  0.047369\n",
      "2021-01-06 -0.003239 -0.044045 -0.020742 -0.016374  0.013922\n",
      "2021-01-07  0.029504  0.060175 -0.008853 -0.002337  0.003942\n",
      "2021-01-08  0.011106  0.007968 -0.003233 -0.034809  0.027362\n",
      "2021-01-11 -0.022659  0.028557 -0.001654 -0.001963  0.000191\n",
      "...              ...       ...       ...       ...       ...\n",
      "2024-09-03 -0.040164 -0.031298  0.016223 -0.004333 -0.044625\n",
      "2024-09-04 -0.005057  0.002619  0.012808  0.000608 -0.016340\n",
      "2024-09-05  0.004994 -0.014157  0.005640  0.008298 -0.000723\n",
      "2024-09-06 -0.041650  0.005621 -0.000100 -0.007430 -0.021635\n",
      "2024-09-09 -0.015856  0.131716  0.004310  0.004197  0.015252\n",
      "\n",
      "[925 rows x 5 columns]\n"
     ]
    }
   ],
   "source": [
    "returns=pd.DataFrame()\n",
    "\n",
    "for ticker in tickers:\n",
    "    data=yf.download(ticker, start=start_date, end=end_date)\n",
    "    data[\"Returns\"]= np.log(data[\"Adj Close\"] / data[\"Adj Close\"].shift(1))\n",
    "    returns[ticker]=data[\"Returns\"].dropna()\n",
    "\n",
    "print (returns)"
   ]
  },
  {
   "cell_type": "markdown",
   "id": "953691c3-6a38-4e77-bb34-9b254123c70c",
   "metadata": {},
   "source": [
    "### 4. The covariance matrix of the log returns was constructed"
   ]
  },
  {
   "cell_type": "code",
   "execution_count": 63,
   "id": "87b270ff-3b13-4ced-98b7-9b6e45a5d6f1",
   "metadata": {},
   "outputs": [],
   "source": [
    "def expected_returns(weights, returns):\n",
    "    return np.sum(returns.mean()*weights)\n",
    "\n",
    "def standard_deviation (weights, cov_matrix):\n",
    "    variance=weights.T@cov_matrix@weights\n",
    "    return np.sqrt(variance)"
   ]
  },
  {
   "cell_type": "code",
   "execution_count": 64,
   "id": "924dd594-dba1-4bea-8b20-eb8f8f77b892",
   "metadata": {},
   "outputs": [
    {
     "name": "stdout",
     "output_type": "stream",
     "text": [
      "          GOOG      PLTR       TLT       GLD      CL=F\n",
      "GOOG  0.000383  0.000322  0.000011  0.000020  0.000029\n",
      "PLTR  0.000322  0.001802  0.000041  0.000038  0.000040\n",
      "TLT   0.000011  0.000041  0.000117  0.000030 -0.000040\n",
      "GLD   0.000020  0.000038  0.000030  0.000080  0.000042\n",
      "CL=F  0.000029  0.000040 -0.000040  0.000042  0.000566\n"
     ]
    }
   ],
   "source": [
    "cov_matrix=returns.cov()\n",
    "print(cov_matrix)"
   ]
  },
  {
   "cell_type": "markdown",
   "id": "62e0ff2f-67fb-4065-aa1a-5e1f0cf17595",
   "metadata": {},
   "source": [
    "### 5. The portfolio variance and standard deviation were calculated"
   ]
  },
  {
   "cell_type": "markdown",
   "id": "843921d4-d8f6-4a3e-94ff-368d7996e8b4",
   "metadata": {},
   "source": [
    "The covariance matrix $( \\text{cov\\_m} )$ and weights $( \\text{w} )$ are given by:\n",
    "\n",
    "$$\n",
    "\\text{cov\\_m} = \n",
    "\\begin{bmatrix}\n",
    "0.000383 & 0.000322 & 0.000011 & 0.000020 & 0.000029 \\\\\n",
    "0.000322 & 0.001802 & 0.000041 & 0.000038 & 0.000040 \\\\\n",
    "0.000011 & 0.000041 & 0.000117 & 0.000030 & -0.000040 \\\\\n",
    "0.000020 & 0.000038 & 0.000030 & 0.000080 & 0.000042 \\\\\n",
    "0.000029 & 0.000040 & -0.000040 & 0.000042 & 0.000566\n",
    "\\end{bmatrix},\n",
    "\\quad\n",
    "\\text{w} = \n",
    "\\begin{bmatrix}\n",
    "0.25 & 0.25 & 0.30 & 0.10 & 0.10\n",
    "\\end{bmatrix}\n",
    "$$\n",
    "\n",
    "The number of columns in the first matrix should equal the number of rows in the second. Thus, we transpose the weights matrix:\n",
    "\n",
    "$$\n",
    "\\text{cov\\_m} \\times \\text{w}^T = \n",
    "\\begin{bmatrix}\n",
    "0.000383 & 0.000322 & 0.000011 & 0.000020 & 0.000029 \\\\\n",
    "0.000322 & 0.001802 & 0.000041 & 0.000038 & 0.000040 \\\\\n",
    "0.000011 & 0.000041 & 0.000117 & 0.000030 & -0.000040 \\\\\n",
    "0.000020 & 0.000038 & 0.000030 & 0.000080 & 0.000042 \\\\\n",
    "0.000029 & 0.000040 & -0.000040 & 0.000042 & 0.000566\n",
    "\\end{bmatrix}\n",
    "\\times \n",
    "\\begin{bmatrix}\n",
    "0.25 \\\\\n",
    "0.25 \\\\\n",
    "0.30 \\\\\n",
    "0.10 \\\\\n",
    "0.10\n",
    "\\end{bmatrix}\n",
    "=\n",
    "\\begin{bmatrix}\n",
    "\\frac{3689}{20000000} \\\\\n",
    "\\frac{5511}{10000000} \\\\\n",
    "\\frac{471}{10000000} \\\\\n",
    "\\frac{357}{10000000} \\\\\n",
    "\\frac{1321}{20000000}\n",
    "\\end{bmatrix}\n",
    "$$\n",
    "\n",
    "The variance of the portfolio $( \\sigma_P^2 )$ is given by:\n",
    "\n",
    "$$\n",
    "\\sigma_P^2 = \\text{w} \\times \\text{cov\\_m} \\times \\text{w}^T\n",
    "$$\n",
    "\n",
    "\n",
    "$$\n",
    "\\begin{bmatrix}\n",
    "0.25 & 0.25 & 0.30 & 0.10 & 0.10\n",
    "\\end{bmatrix}\n",
    "\\times \n",
    "\\begin{bmatrix}\n",
    "\\frac{3689}{20000000} \\\\\n",
    "\\frac{5511}{10000000} \\\\\n",
    "\\frac{471}{10000000} \\\\\n",
    "\\frac{357}{10000000} \\\\\n",
    "\\frac{1321}{20000000}\n",
    "\\end{bmatrix}\n",
    "=\n",
    "\\begin{bmatrix}\n",
    "\\frac{83277}{400000000}\n",
    "\\end{bmatrix}\n",
    "$$\n",
    "\n",
    "The standard deviation of the portfolio $\\,( \\sigma_P)\\,$ is: \n",
    "\n",
    "$$\n",
    "\\sigma_P = \\sqrt{\\sigma_P^2} = \\sqrt{\\frac{83277}{400000000}} \\approx 0.0144\n",
    "$$"
   ]
  },
  {
   "cell_type": "code",
   "execution_count": 152,
   "id": "9800ad1b-640b-4bb0-ab04-3e083fcc1cc9",
   "metadata": {},
   "outputs": [
    {
     "name": "stdout",
     "output_type": "stream",
     "text": [
      "0.014426632781221839\n"
     ]
    }
   ],
   "source": [
    "portfolio_value=1000000\n",
    "weights=[.25,.25,.30,.10,.10]\n",
    "weights_array=np.array(weights)\n",
    "\n",
    "portfolio_er=expected_returns(weights_array,returns)\n",
    "portfolio_std=standard_deviation (weights_array, cov_matrix)\n",
    "print(portfolio_std)"
   ]
  },
  {
   "cell_type": "markdown",
   "id": "a056fde4-3d64-41f3-9184-fbf25923a19d",
   "metadata": {},
   "source": [
    "### 6. The Value at Risk (VaR) of the portfolio was identified"
   ]
  },
  {
   "cell_type": "code",
   "execution_count": 66,
   "id": "25abe2b0-27fa-4b8e-a439-a4a0cac94e56",
   "metadata": {},
   "outputs": [],
   "source": [
    "def random_z_score():\n",
    "    return np.random.normal(0,1)\n",
    "\n",
    "def scenario_gain_loss(portfolio_std,portfolio_er,z_score,days):\n",
    "    return portfolio_value * portfolio_er * days + portfolio_value * portfolio_std * z_score * np.sqrt(days)"
   ]
  },
  {
   "cell_type": "code",
   "execution_count": 67,
   "id": "5f7dab92-10de-4a62-bd7e-2ff5b0dc8e1e",
   "metadata": {},
   "outputs": [],
   "source": [
    "days=10\n",
    "simulations=10000\n",
    "scenario_return=[]\n",
    "\n",
    "for i in range(simulations):\n",
    "    z_score=random_z_score()\n",
    "    scenario_return.append(scenario_gain_loss(portfolio_std,portfolio_er,z_score,days))\n"
   ]
  },
  {
   "cell_type": "code",
   "execution_count": 68,
   "id": "48587742-4b66-4533-bd17-1b560a0d685a",
   "metadata": {},
   "outputs": [
    {
     "name": "stdout",
     "output_type": "stream",
     "text": [
      "-72621.54311599203\n"
     ]
    }
   ],
   "source": [
    "confidence_interval=0.95\n",
    "VaR=np.percentile(scenario_return,100*(1-confidence_interval))\n",
    "print(VaR)"
   ]
  },
  {
   "cell_type": "markdown",
   "id": "f3fc6703-5ede-4444-9737-a512e7c06ea4",
   "metadata": {},
   "source": [
    "### 7. The Monte Carlo Simulation was plotted to visualize the portfolio's VaR "
   ]
  },
  {
   "cell_type": "code",
   "execution_count": 69,
   "id": "bd936f16-66da-4745-b434-eec5bb484c2d",
   "metadata": {},
   "outputs": [
    {
     "data": {
      "image/png": "[encoded data removed]",
      "text/plain": [
       "<Figure size 800x600 with 1 Axes>"
      ]
     },
     "metadata": {},
     "output_type": "display_data"
    }
   ],
   "source": [
    "plt.figure(figsize=(8,6)) \n",
    "plt.hist(scenario_return,bins=50,alpha=0.5)\n",
    "plt.title(f'Distribution of Portfolio Gain/Loss Over {days} Days')\n",
    "plt.xlabel('Scenario Gain/Loss ($)')\n",
    "plt.ylabel('Frequency')\n",
    "plt.axvline(VaR, color='r', linestyle='dashed', linewidth=1, label=f'VaR ({confidence_interval:.0%}): ${VaR:,.0f}')\n",
    "plt.legend(fontsize=10)\n",
    "plt.show()"
   ]
  }
 ],
 "metadata": {
  "kernelspec": {
   "display_name": "Python 3 (ipykernel)",
   "language": "python",
   "name": "python3"
  },
  "language_info": {
   "codemirror_mode": {
    "name": "ipython",
    "version": 3
   },
   "file_extension": ".py",
   "mimetype": "text/x-python",
   "name": "python",
   "nbconvert_exporter": "python",
   "pygments_lexer": "ipython3",
   "version": "3.12.4"
  }
 },
 "nbformat": 4,
 "nbformat_minor": 5
}
