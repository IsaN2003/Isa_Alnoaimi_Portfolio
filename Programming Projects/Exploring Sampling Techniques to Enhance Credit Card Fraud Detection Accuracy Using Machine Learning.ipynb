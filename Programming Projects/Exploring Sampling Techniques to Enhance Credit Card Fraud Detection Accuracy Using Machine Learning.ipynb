{
 "cells": [
  {
   "cell_type": "markdown",
   "metadata": {},
   "source": [
    "\n",
    "\n",
    "Store continuous features in a seperate table.\n",
    ""
   ]
  },
  {
   "cell_type": "code",
   "execution_count": 1,
   "metadata": {},
   "source": [
    "num = vartype('numeric')"
   ],
   "outputs": [
    {
     "data": {
      "text/plain": [
       "num = \n",
       "    table vartype subscript:\n",
       "        Select table variables matching the type 'numeric'\n",
       "    See Access Data in a Table."
      ]
     },
     "metadata": {},
     "execution_count":  1,
     "output_type": "execute_result"
    }
   ]
  },
  {
   "cell_type": "code",
   "execution_count": 2,
   "metadata": {},
   "source": [
    "\n",
    "ctdN = ctd(1:1000000, num)"
   ],
   "outputs": [
    {
     "data": {
      "text/latex": [
       "$\\begin{array} {|c|c|c|c|}\\hline\\text{ } & \\text{distance_from_home} & \\text{distance_from_last_transaction} & \\text{ratio_to_median_purchase_price} \\\\ \\hline\\text{1} & \\text{57.8779} & \\text{0.3111} & \\text{1.9459} \\\\ \\hline\\text{2} & \\text{10.8299} & \\text{0.1756} & \\text{1.2942} \\\\ \\hline\\text{3} & \\text{5.0911} & \\text{0.8052} & \\text{0.4277} \\\\ \\hline\\text{4} & \\text{2.2476} & \\text{5.6000} & \\text{0.3627} \\\\ \\hline\\text{5} & \\text{44.1909} & \\text{0.5665} & \\text{2.2228} \\\\ \\hline\\text{6} & \\text{5.5864} & \\text{13.2611} & \\text{0.0648} \\\\ \\hline\\text{7} & \\text{3.7240} & \\text{0.9568} & \\text{0.2785} \\\\ \\hline\\text{8} & \\text{4.8482} & \\text{0.3207} & \\text{1.2730} \\\\ \\hline\\text{9} & \\text{0.8766} & \\text{2.5036} & \\text{1.5170} \\\\ \\hline\\text{10} & \\text{8.8390} & \\text{2.9705} & \\text{2.3617} \\\\ \\hline\\text{11} & \\text{14.2635} & \\text{0.1588} & \\text{1.1361} \\\\ \\hline\\text{12} & \\text{13.5924} & \\text{0.2405} & \\text{1.3703} \\\\ \\hline\\text{13} & \\text{765.2826} & \\text{0.3716} & \\text{0.5512} \\\\ \\hline\\text{14} & \\text{2.1320} & \\text{56.3724} & \\text{6.3587} \\\\ \\hline\\end{array}$"
      ]
     },
     "metadata": {},
     "execution_count":  2,
     "output_type": "execute_result"
    }
   ]
  },
  {
   "cell_type": "markdown",
   "metadata": {},
   "source": [
    "\n",
    "Generate data quality report for continuous features.\n",
    ""
   ]
  },
  {
   "cell_type": "code",
   "execution_count": 3,
   "metadata": {},
   "source": [
    "Features1=cell(width(ctdN),1);\n",
    "countN=zeros(width(ctdN),1);\n",
    "missingN=zeros(width(ctdN),1);\n",
    "cardN = zeros(width(ctdN), 1);\n",
    "minN=zeros(width(ctdN),1);\n",
    "perc25=zeros(width(ctdN),1);\n",
    "meanN=zeros(width(ctdN),1);\n",
    "medianN=zeros(width(ctdN),1);\n",
    "perc75=zeros(width(ctdN),1);\n",
    "maxN=zeros(width(ctdN),1);\n",
    "stdN=zeros(width(ctdN),1);\n",
    "\n",
    "for col =1: width(ctdN)\n",
    "     Features1(col,1) = ctdN.Properties.VariableNames(col);\n",
    "     countN(col,1)=height(ctdN.(col));\n",
    "     missingN(col,1)=100*sum(ismissing(ctdN.(col)))/height(ctdN);\n",
    "     cardN(col,1)=height(groupsummary(ctdN,col));\n",
    "     minN(col,1)=min(ctdN.(col));\n",
    "     perc25(col,1)=prctile(ctdN.(col),25);\n",
    "     meanN(col,1)=mean(ctdN.(col),'omitnan');\n",
    "     medianN(col,1)=median(ctdN.(col),'omitnan');\n",
    "     perc75(col,1)=prctile(ctdN.(col),75);\n",
    "     maxN(col,1)=max(ctdN.(col));\n",
    "     stdN(col,1)=std(ctdN.(col),'omitnan');\n",
    "end\n",
    "\n",
    "QRctdN=table(Features1,countN,missingN,cardN,minN,perc25,meanN,medianN,perc75,maxN,stdN)"
   ],
   "outputs": [
    {
     "data": {
      "text/latex": [
       "$\\begin{array} {|c|c|c|c|c|c|c|c|c|c|c|c|}\\hline\\text{ } & \\text{Features1} & \\text{countN} & \\text{missingN} & \\text{cardN} & \\text{minN} & \\text{perc25} & \\text{meanN} & \\text{medianN} & \\text{perc75} & \\text{maxN} & \\text{stdN} \\\\ \\hline\\text{1} & \\text{'distance_from_home'} & \\text{1000000} & \\text{0} & \\text{1000000} & \\text{0.0049} & \\text{3.8780} & \\text{26.6288} & \\text{9.9678} & \\text{25.7440} & \\text{1.0633e+04} & \\text{65.3908} \\\\ \\hline\\text{2} & \\text{'distance_from_last_transaction'} & \\text{1000000} & \\text{0} & \\text{1000000} & \\text{1.1828e-04} & \\text{0.2967} & \\text{5.0365} & \\text{0.9987} & \\text{3.3558} & \\text{1.1851e+04} & \\text{25.8431} \\\\ \\hline\\text{3} & \\text{'ratio_to_median_purchase_price'} & \\text{1000000} & \\text{0} & \\text{1000000} & \\text{0.0044} & \\text{0.4757} & \\text{1.8242} & \\text{0.9977} & \\text{2.0964} & \\text{267.8029} & \\text{2.7996} \\\\ \\hline\\end{array}$"
      ]
     },
     "metadata": {},
     "execution_count":  3,
     "output_type": "execute_result"
    }
   ]
  },
  {
   "cell_type": "markdown",
   "metadata": {},
   "source": [
    "\n",
    "Store categorical features in a seperate table.\n",
    ""
   ]
  },
  {
   "cell_type": "code",
   "execution_count": 4,
   "metadata": {},
   "source": [
    "cat = vartype('categorical')"
   ],
   "outputs": [
    {
     "data": {
      "text/plain": [
       "cat = \n",
       "    table vartype subscript:\n",
       "        Select table variables matching the type 'categorical'\n",
       "    See Access Data in a Table."
      ]
     },
     "metadata": {},
     "execution_count":  4,
     "output_type": "execute_result"
    }
   ]
  },
  {
   "cell_type": "code",
   "execution_count": 5,
   "metadata": {},
   "source": [
    "\n",
    "ctdC = ctd(1:1000000, cat)"
   ],
   "outputs": [
    {
     "data": {
      "text/latex": [
       "$\\begin{array} {|c|c|c|c|c|c|}\\hline\\text{ } & \\text{repeat_retailer} & \\text{used_chip} & \\text{used_pin_number} & \\text{online_order} & \\text{fraud} \\\\ \\hline\\text{1} & \\text{1.0} & \\text{1.0} & \\text{0.0} & \\text{0.0} & \\text{0.0} \\\\ \\hline\\text{2} & \\text{1.0} & \\text{0.0} & \\text{0.0} & \\text{0.0} & \\text{0.0} \\\\ \\hline\\text{3} & \\text{1.0} & \\text{0.0} & \\text{0.0} & \\text{1.0} & \\text{0.0} \\\\ \\hline\\text{4} & \\text{1.0} & \\text{1.0} & \\text{0.0} & \\text{1.0} & \\text{0.0} \\\\ \\hline\\text{5} & \\text{1.0} & \\text{1.0} & \\text{0.0} & \\text{1.0} & \\text{0.0} \\\\ \\hline\\text{6} & \\text{1.0} & \\text{0.0} & \\text{0.0} & \\text{0.0} & \\text{0.0} \\\\ \\hline\\text{7} & \\text{1.0} & \\text{0.0} & \\text{0.0} & \\text{1.0} & \\text{0.0} \\\\ \\hline\\text{8} & \\text{1.0} & \\text{0.0} & \\text{1.0} & \\text{0.0} & \\text{0.0} \\\\ \\hline\\text{9} & \\text{0.0} & \\text{0.0} & \\text{0.0} & \\text{0.0} & \\text{0.0} \\\\ \\hline\\text{10} & \\text{1.0} & \\text{0.0} & \\text{0.0} & \\text{1.0} & \\text{0.0} \\\\ \\hline\\text{11} & \\text{1.0} & \\text{1.0} & \\text{0.0} & \\text{1.0} & \\text{0.0} \\\\ \\hline\\text{12} & \\text{1.0} & \\text{1.0} & \\text{0.0} & \\text{1.0} & \\text{0.0} \\\\ \\hline\\text{13} & \\text{1.0} & \\text{1.0} & \\text{0.0} & \\text{0.0} & \\text{0.0} \\\\ \\hline\\text{14} & \\text{1.0} & \\text{0.0} & \\text{0.0} & \\text{1.0} & \\text{1.0} \\\\ \\hline\\end{array}$"
      ]
     },
     "metadata": {},
     "execution_count":  5,
     "output_type": "execute_result"
    }
   ]
  },
  {
   "cell_type": "markdown",
   "metadata": {},
   "source": [
    "\n",
    "Generate data quality report for categorical features.\n",
    ""
   ]
  },
  {
   "cell_type": "code",
   "execution_count": 6,
   "metadata": {},
   "source": [
    " Features2=cell(width(ctdC),1);\n",
    " countC=zeros(width(ctdC),1);\n",
    " missingC=zeros(width(ctdC),1);\n",
    " cardC=zeros(width(ctdC), 1);\n",
    " modeC=categorical(zeros(width(ctdC), 1));\n",
    " modeC_freq=zeros(width(ctdC), 1);\n",
    " modeC_per=zeros(width(ctdC), 1);\n",
    " modeC2=categorical(zeros(width(ctdC), 1));\n",
    " modeC2_freq=zeros(width(ctdC), 1);\n",
    " modeC2_per=zeros(width(ctdC), 1);\n",
    " for col =1: width(ctdC)\n",
    "     Features2(col,1)=ctdC.Properties.VariableNames(col);\n",
    "     countC(col,1)=height(ctdC.(col));\n",
    "     missingC(col,1)=100*sum(ismissing(ctdC.(col)))/height(ctdC);\n",
    "     cardC(col,1)=height(groupsummary(ctdC,col));\n",
    "     [modeC(col,1),modeC_freq(col,1)]=mode(ctdC.(col));\n",
    "     modeC_per(col, 1)=100*(modeC_freq(col, 1)/height(ctdC.(col)));\n",
    "     [modeC2(col,1),modeC2_freq(col,1)]=mode(ctdC.(col)((ctdC.(col))~=mode(ctdC.(col))));\n",
    "     modeC2_per(col, 1)=100*(modeC2_freq(col, 1)/height(ctdC.(col)));\n",
    "end\n",
    "\n",
    "QRctdC=table(Features2,countC,missingC,cardC,modeC,modeC_freq,modeC_per,modeC2,modeC2_freq,modeC2_per)"
   ],
   "outputs": [
    {
     "data": {
      "text/latex": [
       "$\\begin{array} {|c|c|c|c|c|c|c|c|c|c|c|}\\hline\\text{ } & \\text{Features2} & \\text{countC} & \\text{missingC} & \\text{cardC} & \\text{modeC} & \\text{modeC_freq} & \\text{modeC_per} & \\text{modeC2} & \\text{modeC2_freq} & \\text{modeC2_per} \\\\ \\hline\\text{1} & \\text{'repeat_retailer'} & \\text{1000000} & \\text{0} & \\text{2} & \\text{1.0} & \\text{881536} & \\text{88.1536} & \\text{0.0} & \\text{118464} & \\text{11.8464} \\\\ \\hline\\text{2} & \\text{'used_chip'} & \\text{1000000} & \\text{0} & \\text{2} & \\text{0.0} & \\text{649601} & \\text{64.9601} & \\text{1.0} & \\text{350399} & \\text{35.0399} \\\\ \\hline\\text{3} & \\text{'used_pin_number'} & \\text{1000000} & \\text{0} & \\text{2} & \\text{0.0} & \\text{899392} & \\text{89.9392} & \\text{1.0} & \\text{100608} & \\text{10.0608} \\\\ \\hline\\text{4} & \\text{'online_order'} & \\text{1000000} & \\text{0} & \\text{2} & \\text{1.0} & \\text{650552} & \\text{65.0552} & \\text{0.0} & \\text{349448} & \\text{34.9448} \\\\ \\hline\\text{5} & \\text{'fraud'} & \\text{1000000} & \\text{0} & \\text{2} & \\text{0.0} & \\text{912597} & \\text{91.2597} & \\text{1.0} & \\text{87403} & \\text{8.7403} \\\\ \\hline\\end{array}$"
      ]
     },
     "metadata": {},
     "execution_count":  6,
     "output_type": "execute_result"
    }
   ]
  },
  {
   "cell_type": "markdown",
   "metadata": {},
   "source": [
    "\n",
    "Data visualization for descriptive features after cleaning\n",
    ""
   ]
  },
  {
   "cell_type": "code",
   "execution_count": 7,
   "metadata": {},
   "source": [
    "histogram(ctd.distance_from_home);\n",
    "title(\"Distance from home\");"
   ],
   "outputs": [
    {
     "data": {
      "text/html": [
       "<center><img src=\"data:image/png;base64,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\" width=\"333\" alt=\"figure_0.png\"></center>"
      ]
     },
     "metadata": {},
     "execution_count":  7,
     "output_type": "execute_result"
    }
   ]
  },
  {
   "cell_type": "code",
   "execution_count": 8,
   "metadata": {},
   "source": [
    "\n",
    "histogram(ctd.distance_from_last_transaction);\n",
    "title(\"Distance from last transaction\");"
   ],
   "outputs": [
    {
     "data": {
      "text/html": [
       "<center><img src=\"data:image/png;base64,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\" width=\"333\" alt=\"figure_1.png\"></center>"
      ]
     },
     "metadata": {},
     "execution_count":  8,
     "output_type": "execute_result"
    }
   ]
  },
  {
   "cell_type": "code",
   "execution_count": 9,
   "metadata": {},
   "source": [
    "\n",
    "histogram(ctd.ratio_to_median_purchase_price);\n",
    "title(\"Ratio to median purchase price\");"
   ],
   "outputs": [
    {
     "data": {
      "text/html": [
       "<center><img src=\"data:image/png;base64,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\" width=\"333\" alt=\"figure_2.png\"></center>"
      ]
     },
     "metadata": {},
     "execution_count":  9,
     "output_type": "execute_result"
    }
   ]
  },
  {
   "cell_type": "code",
   "execution_count": 10,
   "metadata": {},
   "source": [
    "\n",
    "histogram(ctd.repeat_retailer);\n",
    "title(\"Repeat retailer\");"
   ],
   "outputs": [
    {
     "data": {
      "text/html": [
       "<center><img src=\"data:image/png;base64,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\" width=\"333\" alt=\"figure_3.png\"></center>"
      ]
     },
     "metadata": {},
     "execution_count":  10,
     "output_type": "execute_result"
    }
   ]
  },
  {
   "cell_type": "code",
   "execution_count": 11,
   "metadata": {},
   "source": [
    "\n",
    "histogram (ctd.used_chip);\n",
    "title(\"Repeat retailer\");"
   ],
   "outputs": [
    {
     "data": {
      "text/html": [
       "<center><img src=\"data:image/png;base64,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\" width=\"333\" alt=\"figure_4.png\"></center>"
      ]
     },
     "metadata": {},
     "execution_count":  11,
     "output_type": "execute_result"
    }
   ]
  },
  {
   "cell_type": "code",
   "execution_count": 12,
   "metadata": {},
   "source": [
    "\n",
    "histogram (ctd.used_pin_number);\n",
    "title(\"Used pin number\");"
   ],
   "outputs": [
    {
     "data": {
      "text/html": [
       "<center><img src=\"data:image/png;base64,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\" width=\"333\" alt=\"figure_5.png\"></center>"
      ]
     },
     "metadata": {},
     "execution_count":  12,
     "output_type": "execute_result"
    }
   ]
  },
  {
   "cell_type": "code",
   "execution_count": 13,
   "metadata": {},
   "source": [
    "\n",
    "histogram (ctd.online_order);\n",
    "title(\"Online order\");"
   ],
   "outputs": [
    {
     "data": {
      "text/html": [
       "<center><img src=\"data:image/png;base64,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\" width=\"333\" alt=\"figure_6.png\"></center>"
      ]
     },
     "metadata": {},
     "execution_count":  13,
     "output_type": "execute_result"
    }
   ]
  },
  {
   "cell_type": "markdown",
   "metadata": {},
   "source": [
    "\n",
    "Seperate fraud and nonfraud dataset\n",
    ""
   ]
  },
  {
   "cell_type": "code",
   "execution_count": 14,
   "metadata": {},
   "source": [
    "ctdnf = ctd(ctd.fraud == '0.0', :);\n",
    "ctdf = ctd(ctd.fraud == '1.0', :);"
   ],
   "outputs": []
  },
  {
   "cell_type": "markdown",
   "metadata": {},
   "source": [
    "\n",
    "Create a subset of the dataset\n",
    ""
   ]
  },
  {
   "cell_type": "code",
   "execution_count": 15,
   "metadata": {},
   "source": [
    "%456,298 nonfraud\n",
    "%43,701 fraud\n",
    "% nonfraud / fraud ratio = 91% / 9%\n",
    "part1=cvpartition(height(ctdnf),'HoldOut',0.50)"
   ],
   "outputs": [
    {
     "data": {
      "text/plain": [
       "part1 = \n",
       "Hold-out cross validation partition\n",
       "   NumObservations: 912597\n",
       "       NumTestSets: 1\n",
       "         TrainSize: 456299\n",
       "          TestSize: 456298\n",
       "          IsCustom: 0"
      ]
     },
     "metadata": {},
     "execution_count":  15,
     "output_type": "execute_result"
    }
   ]
  },
  {
   "cell_type": "code",
   "execution_count": 16,
   "metadata": {},
   "source": [
    "\n",
    "idxtest1=test(part1)"
   ],
   "outputs": [
    {
     "data": {
      "text/plain": [
       "idxtest1 = 912597x1 logical array\n",
       "   1\n",
       "   1\n",
       "   1\n",
       "   0\n",
       "   0\n",
       "   1\n",
       "   0\n",
       "   0\n",
       "   0\n",
       "   1"
      ]
     },
     "metadata": {},
     "execution_count":  16,
     "output_type": "execute_result"
    }
   ]
  },
  {
   "cell_type": "code",
   "execution_count": 17,
   "metadata": {},
   "source": [
    "\n",
    "ctd_nf_sub=ctdnf(idxtest1,:)"
   ],
   "outputs": [
    {
     "data": {
      "text/latex": [
       "$\\begin{array} {|c|c|c|c|c|c|c|c|c|}\\hline\\text{ } & \\text{distance_from_home} & \\text{distance_from_last_transaction} & \\text{ratio_to_median_purchase_price} & \\text{repeat_retailer} & \\text{used_chip} & \\text{used_pin_number} & \\text{online_order} & \\text{fraud} \\\\ \\hline\\text{1} & \\text{57.8779} & \\text{0.3111} & \\text{1.9459} & \\text{1.0} & \\text{1.0} & \\text{0.0} & \\text{0.0} & \\text{0.0} \\\\ \\hline\\text{2} & \\text{10.8299} & \\text{0.1756} & \\text{1.2942} & \\text{1.0} & \\text{0.0} & \\text{0.0} & \\text{0.0} & \\text{0.0} \\\\ \\hline\\text{3} & \\text{5.0911} & \\text{0.8052} & \\text{0.4277} & \\text{1.0} & \\text{0.0} & \\text{0.0} & \\text{1.0} & \\text{0.0} \\\\ \\hline\\text{4} & \\text{5.5864} & \\text{13.2611} & \\text{0.0648} & \\text{1.0} & \\text{0.0} & \\text{0.0} & \\text{0.0} & \\text{0.0} \\\\ \\hline\\text{5} & \\text{8.8390} & \\text{2.9705} & \\text{2.3617} & \\text{1.0} & \\text{0.0} & \\text{0.0} & \\text{1.0} & \\text{0.0} \\\\ \\hline\\text{6} & \\text{14.2635} & \\text{0.1588} & \\text{1.1361} & \\text{1.0} & \\text{1.0} & \\text{0.0} & \\text{1.0} & \\text{0.0} \\\\ \\hline\\text{7} & \\text{13.5924} & \\text{0.2405} & \\text{1.3703} & \\text{1.0} & \\text{1.0} & \\text{0.0} & \\text{1.0} & \\text{0.0} \\\\ \\hline\\text{8} & \\text{765.2826} & \\text{0.3716} & \\text{0.5512} & \\text{1.0} & \\text{1.0} & \\text{0.0} & \\text{0.0} & \\text{0.0} \\\\ \\hline\\text{9} & \\text{13.9560} & \\text{0.2715} & \\text{2.7989} & \\text{1.0} & \\text{0.0} & \\text{0.0} & \\text{1.0} & \\text{0.0} \\\\ \\hline\\text{10} & \\text{179.6651} & \\text{0.1209} & \\text{0.5356} & \\text{1.0} & \\text{1.0} & \\text{1.0} & \\text{1.0} & \\text{0.0} \\\\ \\hline\\text{11} & \\text{3.5896} & \\text{6.2475} & \\text{1.8465} & \\text{1.0} & \\text{0.0} & \\text{0.0} & \\text{0.0} & \\text{0.0} \\\\ \\hline\\text{12} & \\text{78.6232} & \\text{1.4092} & \\text{1.8380} & \\text{1.0} & \\text{1.0} & \\text{0.0} & \\text{0.0} & \\text{0.0} \\\\ \\hline\\text{13} & \\text{1.6951} & \\text{0.0692} & \\text{0.1853} & \\text{0.0} & \\text{0.0} & \\text{0.0} & \\text{0.0} & \\text{0.0} \\\\ \\hline\\text{14} & \\text{17.0434} & \\text{0.3283} & \\text{0.3472} & \\text{1.0} & \\text{0.0} & \\text{0.0} & \\text{1.0} & \\text{0.0} \\\\ \\hline\\end{array}$"
      ]
     },
     "metadata": {},
     "execution_count":  17,
     "output_type": "execute_result"
    }
   ]
  },
  {
   "cell_type": "code",
   "execution_count": 18,
   "metadata": {},
   "source": [
    "\n",
    "part2=cvpartition(height(ctdf),'HoldOut',0.50)"
   ],
   "outputs": [
    {
     "data": {
      "text/plain": [
       "part2 = \n",
       "Hold-out cross validation partition\n",
       "   NumObservations: 87403\n",
       "       NumTestSets: 1\n",
       "         TrainSize: 43702\n",
       "          TestSize: 43701\n",
       "          IsCustom: 0"
      ]
     },
     "metadata": {},
     "execution_count":  18,
     "output_type": "execute_result"
    }
   ]
  },
  {
   "cell_type": "code",
   "execution_count": 19,
   "metadata": {},
   "source": [
    "\n",
    "idxtest2=test(part2)"
   ],
   "outputs": [
    {
     "data": {
      "text/plain": [
       "idxtest2 = 87403x1 logical array\n",
       "   0\n",
       "   0\n",
       "   1\n",
       "   1\n",
       "   0\n",
       "   0\n",
       "   1\n",
       "   1\n",
       "   1\n",
       "   1"
      ]
     },
     "metadata": {},
     "execution_count":  19,
     "output_type": "execute_result"
    }
   ]
  },
  {
   "cell_type": "code",
   "execution_count": 20,
   "metadata": {},
   "source": [
    "\n",
    "ctd_f_sub=ctdf(idxtest2,:)"
   ],
   "outputs": [
    {
     "data": {
      "text/latex": [
       "$\\begin{array} {|c|c|c|c|c|c|c|c|c|}\\hline\\text{ } & \\text{distance_from_home} & \\text{distance_from_last_transaction} & \\text{ratio_to_median_purchase_price} & \\text{repeat_retailer} & \\text{used_chip} & \\text{used_pin_number} & \\text{online_order} & \\text{fraud} \\\\ \\hline\\text{1} & \\text{15.6950} & \\text{175.9892} & \\text{0.8556} & \\text{1.0} & \\text{0.0} & \\text{0.0} & \\text{1.0} & \\text{1.0} \\\\ \\hline\\text{2} & \\text{26.7115} & \\text{1.5520} & \\text{4.6036} & \\text{1.0} & \\text{1.0} & \\text{0.0} & \\text{1.0} & \\text{1.0} \\\\ \\hline\\text{3} & \\text{21.1261} & \\text{0.2720} & \\text{6.0818} & \\text{1.0} & \\text{0.0} & \\text{0.0} & \\text{1.0} & \\text{1.0} \\\\ \\hline\\text{4} & \\text{151.3704} & \\text{5.3401} & \\text{1.1716} & \\text{1.0} & \\text{0.0} & \\text{0.0} & \\text{1.0} & \\text{1.0} \\\\ \\hline\\text{5} & \\text{9.5984} & \\text{0.4546} & \\text{6.0848} & \\text{1.0} & \\text{0.0} & \\text{0.0} & \\text{1.0} & \\text{1.0} \\\\ \\hline\\text{6} & \\text{22.5456} & \\text{0.3539} & \\text{4.0954} & \\text{1.0} & \\text{0.0} & \\text{0.0} & \\text{1.0} & \\text{1.0} \\\\ \\hline\\text{7} & \\text{335.1893} & \\text{1.1142} & \\text{0.0982} & \\text{1.0} & \\text{0.0} & \\text{0.0} & \\text{1.0} & \\text{1.0} \\\\ \\hline\\text{8} & \\text{5.7939} & \\text{2.7585} & \\text{5.0857} & \\text{1.0} & \\text{0.0} & \\text{0.0} & \\text{1.0} & \\text{1.0} \\\\ \\hline\\text{9} & \\text{22.6420} & \\text{0.0156} & \\text{4.3222} & \\text{1.0} & \\text{0.0} & \\text{0.0} & \\text{1.0} & \\text{1.0} \\\\ \\hline\\text{10} & \\text{88.1589} & \\text{0.6553} & \\text{5.4335} & \\text{1.0} & \\text{0.0} & \\text{0.0} & \\text{1.0} & \\text{1.0} \\\\ \\hline\\text{11} & \\text{1.3796} & \\text{0.0565} & \\text{4.8719} & \\text{0.0} & \\text{0.0} & \\text{0.0} & \\text{0.0} & \\text{1.0} \\\\ \\hline\\text{12} & \\text{20.1415} & \\text{116.5625} & \\text{1.1730} & \\text{1.0} & \\text{0.0} & \\text{0.0} & \\text{1.0} & \\text{1.0} \\\\ \\hline\\text{13} & \\text{111.2852} & \\text{0.3790} & \\text{1.8585} & \\text{1.0} & \\text{0.0} & \\text{0.0} & \\text{1.0} & \\text{1.0} \\\\ \\hline\\text{14} & \\text{34.4139} & \\text{25.2976} & \\text{14.6977} & \\text{1.0} & \\text{0.0} & \\text{0.0} & \\text{1.0} & \\text{1.0} \\\\ \\hline\\end{array}$"
      ]
     },
     "metadata": {},
     "execution_count":  20,
     "output_type": "execute_result"
    }
   ]
  },
  {
   "cell_type": "code",
   "execution_count": 21,
   "metadata": {},
   "source": [
    "\n",
    "% concatinating the newly created subset of non fraud observations with our\n",
    "% fraud observations to create our dataset\n",
    "ctd_sub=vertcat(ctd_f_sub,ctd_nf_sub)"
   ],
   "outputs": [
    {
     "data": {
      "text/latex": [
       "$\\begin{array} {|c|c|c|c|c|c|c|c|c|}\\hline\\text{ } & \\text{distance_from_home} & \\text{distance_from_last_transaction} & \\text{ratio_to_median_purchase_price} & \\text{repeat_retailer} & \\text{used_chip} & \\text{used_pin_number} & \\text{online_order} & \\text{fraud} \\\\ \\hline\\text{1} & \\text{15.6950} & \\text{175.9892} & \\text{0.8556} & \\text{1.0} & \\text{0.0} & \\text{0.0} & \\text{1.0} & \\text{1.0} \\\\ \\hline\\text{2} & \\text{26.7115} & \\text{1.5520} & \\text{4.6036} & \\text{1.0} & \\text{1.0} & \\text{0.0} & \\text{1.0} & \\text{1.0} \\\\ \\hline\\text{3} & \\text{21.1261} & \\text{0.2720} & \\text{6.0818} & \\text{1.0} & \\text{0.0} & \\text{0.0} & \\text{1.0} & \\text{1.0} \\\\ \\hline\\text{4} & \\text{151.3704} & \\text{5.3401} & \\text{1.1716} & \\text{1.0} & \\text{0.0} & \\text{0.0} & \\text{1.0} & \\text{1.0} \\\\ \\hline\\text{5} & \\text{9.5984} & \\text{0.4546} & \\text{6.0848} & \\text{1.0} & \\text{0.0} & \\text{0.0} & \\text{1.0} & \\text{1.0} \\\\ \\hline\\text{6} & \\text{22.5456} & \\text{0.3539} & \\text{4.0954} & \\text{1.0} & \\text{0.0} & \\text{0.0} & \\text{1.0} & \\text{1.0} \\\\ \\hline\\text{7} & \\text{335.1893} & \\text{1.1142} & \\text{0.0982} & \\text{1.0} & \\text{0.0} & \\text{0.0} & \\text{1.0} & \\text{1.0} \\\\ \\hline\\text{8} & \\text{5.7939} & \\text{2.7585} & \\text{5.0857} & \\text{1.0} & \\text{0.0} & \\text{0.0} & \\text{1.0} & \\text{1.0} \\\\ \\hline\\text{9} & \\text{22.6420} & \\text{0.0156} & \\text{4.3222} & \\text{1.0} & \\text{0.0} & \\text{0.0} & \\text{1.0} & \\text{1.0} \\\\ \\hline\\text{10} & \\text{88.1589} & \\text{0.6553} & \\text{5.4335} & \\text{1.0} & \\text{0.0} & \\text{0.0} & \\text{1.0} & \\text{1.0} \\\\ \\hline\\text{11} & \\text{1.3796} & \\text{0.0565} & \\text{4.8719} & \\text{0.0} & \\text{0.0} & \\text{0.0} & \\text{0.0} & \\text{1.0} \\\\ \\hline\\text{12} & \\text{20.1415} & \\text{116.5625} & \\text{1.1730} & \\text{1.0} & \\text{0.0} & \\text{0.0} & \\text{1.0} & \\text{1.0} \\\\ \\hline\\text{13} & \\text{111.2852} & \\text{0.3790} & \\text{1.8585} & \\text{1.0} & \\text{0.0} & \\text{0.0} & \\text{1.0} & \\text{1.0} \\\\ \\hline\\text{14} & \\text{34.4139} & \\text{25.2976} & \\text{14.6977} & \\text{1.0} & \\text{0.0} & \\text{0.0} & \\text{1.0} & \\text{1.0} \\\\ \\hline\\end{array}$"
      ]
     },
     "metadata": {},
     "execution_count":  21,
     "output_type": "execute_result"
    }
   ]
  },
  {
   "cell_type": "markdown",
   "metadata": {},
   "source": [
    "\n",
    "Undersampling\n",
    ""
   ]
  },
  {
   "cell_type": "code",
   "execution_count": 22,
   "metadata": {},
   "source": [
    "% creating a subset of the non fraud observations to match the amount of\n",
    "% fraud observations\n",
    "part=cvpartition(height(ctdnf),'HoldOut',0.096)"
   ],
   "outputs": [
    {
     "data": {
      "text/plain": [
       "part = \n",
       "Hold-out cross validation partition\n",
       "   NumObservations: 912597\n",
       "       NumTestSets: 1\n",
       "         TrainSize: 824988\n",
       "          TestSize: 87609\n",
       "          IsCustom: 0"
      ]
     },
     "metadata": {},
     "execution_count":  22,
     "output_type": "execute_result"
    }
   ]
  },
  {
   "cell_type": "code",
   "execution_count": 23,
   "metadata": {},
   "source": [
    "\n",
    "idxtest=test(part)"
   ],
   "outputs": [
    {
     "data": {
      "text/plain": [
       "idxtest = 912597x1 logical array\n",
       "   0\n",
       "   0\n",
       "   1\n",
       "   0\n",
       "   0\n",
       "   0\n",
       "   1\n",
       "   0\n",
       "   0\n",
       "   0"
      ]
     },
     "metadata": {},
     "execution_count":  23,
     "output_type": "execute_result"
    }
   ]
  },
  {
   "cell_type": "code",
   "execution_count": 24,
   "metadata": {},
   "source": [
    "\n",
    "ctd_nf_new=ctdnf(idxtest,:)"
   ],
   "outputs": [
    {
     "data": {
      "text/latex": [
       "$\\begin{array} {|c|c|c|c|c|c|c|c|c|}\\hline\\text{ } & \\text{distance_from_home} & \\text{distance_from_last_transaction} & \\text{ratio_to_median_purchase_price} & \\text{repeat_retailer} & \\text{used_chip} & \\text{used_pin_number} & \\text{online_order} & \\text{fraud} \\\\ \\hline\\text{1} & \\text{5.0911} & \\text{0.8052} & \\text{0.4277} & \\text{1.0} & \\text{0.0} & \\text{0.0} & \\text{1.0} & \\text{0.0} \\\\ \\hline\\text{2} & \\text{3.7240} & \\text{0.9568} & \\text{0.2785} & \\text{1.0} & \\text{0.0} & \\text{0.0} & \\text{1.0} & \\text{0.0} \\\\ \\hline\\text{3} & \\text{6.1947} & \\text{1.1420} & \\text{0.3072} & \\text{1.0} & \\text{0.0} & \\text{0.0} & \\text{0.0} & \\text{0.0} \\\\ \\hline\\text{4} & \\text{3.9222} & \\text{4.8221} & \\text{0.7038} & \\text{1.0} & \\text{0.0} & \\text{0.0} & \\text{0.0} & \\text{0.0} \\\\ \\hline\\text{5} & \\text{83.1919} & \\text{0.9742} & \\text{2.2046} & \\text{1.0} & \\text{1.0} & \\text{0.0} & \\text{1.0} & \\text{0.0} \\\\ \\hline\\text{6} & \\text{2.0208} & \\text{0.1780} & \\text{0.8145} & \\text{1.0} & \\text{1.0} & \\text{0.0} & \\text{1.0} & \\text{0.0} \\\\ \\hline\\text{7} & \\text{0.9785} & \\text{2.8642} & \\text{3.2625} & \\text{0.0} & \\text{0.0} & \\text{0.0} & \\text{0.0} & \\text{0.0} \\\\ \\hline\\text{8} & \\text{7.2965} & \\text{1.1548} & \\text{1.0233} & \\text{1.0} & \\text{0.0} & \\text{0.0} & \\text{1.0} & \\text{0.0} \\\\ \\hline\\text{9} & \\text{50.6288} & \\text{19.4271} & \\text{3.0094} & \\text{1.0} & \\text{0.0} & \\text{0.0} & \\text{1.0} & \\text{0.0} \\\\ \\hline\\text{10} & \\text{12.7124} & \\text{0.5236} & \\text{0.6535} & \\text{1.0} & \\text{1.0} & \\text{0.0} & \\text{1.0} & \\text{0.0} \\\\ \\hline\\text{11} & \\text{2.6606} & \\text{0.6572} & \\text{3.8379} & \\text{1.0} & \\text{0.0} & \\text{0.0} & \\text{1.0} & \\text{0.0} \\\\ \\hline\\text{12} & \\text{3.3575} & \\text{990.0703} & \\text{3.1579} & \\text{1.0} & \\text{0.0} & \\text{0.0} & \\text{0.0} & \\text{0.0} \\\\ \\hline\\text{13} & \\text{20.3057} & \\text{0.1480} & \\text{1.0306} & \\text{1.0} & \\text{1.0} & \\text{0.0} & \\text{1.0} & \\text{0.0} \\\\ \\hline\\text{14} & \\text{1.2008} & \\text{2.6545} & \\text{0.0567} & \\text{0.0} & \\text{0.0} & \\text{0.0} & \\text{0.0} & \\text{0.0} \\\\ \\hline\\end{array}$"
      ]
     },
     "metadata": {},
     "execution_count":  24,
     "output_type": "execute_result"
    }
   ]
  },
  {
   "cell_type": "code",
   "execution_count": 25,
   "metadata": {},
   "source": [
    "\n",
    "% concatinating the newly created subset of non fraud observations with our\n",
    "% fraud observations to create our dataset\n",
    "ctd_under=vertcat(ctdf,ctd_nf_new)"
   ],
   "outputs": [
    {
     "data": {
      "text/latex": [
       "$\\begin{array} {|c|c|c|c|c|c|c|c|c|}\\hline\\text{ } & \\text{distance_from_home} & \\text{distance_from_last_transaction} & \\text{ratio_to_median_purchase_price} & \\text{repeat_retailer} & \\text{used_chip} & \\text{used_pin_number} & \\text{online_order} & \\text{fraud} \\\\ \\hline\\text{1} & \\text{2.1320} & \\text{56.3724} & \\text{6.3587} & \\text{1.0} & \\text{0.0} & \\text{0.0} & \\text{1.0} & \\text{1.0} \\\\ \\hline\\text{2} & \\text{3.8031} & \\text{67.2411} & \\text{1.8729} & \\text{1.0} & \\text{0.0} & \\text{0.0} & \\text{1.0} & \\text{1.0} \\\\ \\hline\\text{3} & \\text{15.6950} & \\text{175.9892} & \\text{0.8556} & \\text{1.0} & \\text{0.0} & \\text{0.0} & \\text{1.0} & \\text{1.0} \\\\ \\hline\\text{4} & \\text{26.7115} & \\text{1.5520} & \\text{4.6036} & \\text{1.0} & \\text{1.0} & \\text{0.0} & \\text{1.0} & \\text{1.0} \\\\ \\hline\\text{5} & \\text{10.6645} & \\text{1.5658} & \\text{4.8865} & \\text{1.0} & \\text{0.0} & \\text{0.0} & \\text{1.0} & \\text{1.0} \\\\ \\hline\\text{6} & \\text{2.5301} & \\text{3.6898} & \\text{8.2974} & \\text{1.0} & \\text{0.0} & \\text{0.0} & \\text{1.0} & \\text{1.0} \\\\ \\hline\\text{7} & \\text{21.1261} & \\text{0.2720} & \\text{6.0818} & \\text{1.0} & \\text{0.0} & \\text{0.0} & \\text{1.0} & \\text{1.0} \\\\ \\hline\\text{8} & \\text{151.3704} & \\text{5.3401} & \\text{1.1716} & \\text{1.0} & \\text{0.0} & \\text{0.0} & \\text{1.0} & \\text{1.0} \\\\ \\hline\\text{9} & \\text{9.5984} & \\text{0.4546} & \\text{6.0848} & \\text{1.0} & \\text{0.0} & \\text{0.0} & \\text{1.0} & \\text{1.0} \\\\ \\hline\\text{10} & \\text{22.5456} & \\text{0.3539} & \\text{4.0954} & \\text{1.0} & \\text{0.0} & \\text{0.0} & \\text{1.0} & \\text{1.0} \\\\ \\hline\\text{11} & \\text{335.1893} & \\text{1.1142} & \\text{0.0982} & \\text{1.0} & \\text{0.0} & \\text{0.0} & \\text{1.0} & \\text{1.0} \\\\ \\hline\\text{12} & \\text{43.3264} & \\text{0.2053} & \\text{4.2506} & \\text{1.0} & \\text{0.0} & \\text{0.0} & \\text{1.0} & \\text{1.0} \\\\ \\hline\\text{13} & \\text{1.1159} & \\text{0.1702} & \\text{4.1273} & \\text{0.0} & \\text{0.0} & \\text{0.0} & \\text{0.0} & \\text{1.0} \\\\ \\hline\\text{14} & \\text{5.7939} & \\text{2.7585} & \\text{5.0857} & \\text{1.0} & \\text{0.0} & \\text{0.0} & \\text{1.0} & \\text{1.0} \\\\ \\hline\\end{array}$"
      ]
     },
     "metadata": {},
     "execution_count":  25,
     "output_type": "execute_result"
    }
   ]
  },
  {
   "cell_type": "markdown",
   "metadata": {},
   "source": [
    "\n",
    "Oversampling\n",
    ""
   ]
  },
  {
   "cell_type": "code",
   "execution_count": 26,
   "metadata": {},
   "source": [
    "x = 40000;\n",
    "\n",
    "% This if statement checks if our prespecified number of desired rows is\n",
    "% bigger than the actual count of rows in the dataset\n",
    "if x > height(ctdf)\n",
    "    error('x should not exceed the number of rows in the dataset.');\n",
    "end\n",
    "\n",
    "% using the function randomperm, we loop through our table that includes\n",
    "% only fraud incidents and store random rows in randomIndices\n",
    "randomIndices = randperm(height(ctdf), x);\n",
    "\n",
    "% we store the results of randomIndices into the table called ctdf_rand\n",
    "ctdf_rand = ctdf(randomIndices, :);\n",
    "\n",
    "% concatinating the fraud only table with the randomly chosen fraud rows to\n",
    "ctd_fandrand=vertcat(ctdf,ctdf_rand)"
   ],
   "outputs": [
    {
     "data": {
      "text/latex": [
       "$\\begin{array} {|c|c|c|c|c|c|c|c|c|}\\hline\\text{ } & \\text{distance_from_home} & \\text{distance_from_last_transaction} & \\text{ratio_to_median_purchase_price} & \\text{repeat_retailer} & \\text{used_chip} & \\text{used_pin_number} & \\text{online_order} & \\text{fraud} \\\\ \\hline\\text{1} & \\text{2.1320} & \\text{56.3724} & \\text{6.3587} & \\text{1.0} & \\text{0.0} & \\text{0.0} & \\text{1.0} & \\text{1.0} \\\\ \\hline\\text{2} & \\text{3.8031} & \\text{67.2411} & \\text{1.8729} & \\text{1.0} & \\text{0.0} & \\text{0.0} & \\text{1.0} & \\text{1.0} \\\\ \\hline\\text{3} & \\text{15.6950} & \\text{175.9892} & \\text{0.8556} & \\text{1.0} & \\text{0.0} & \\text{0.0} & \\text{1.0} & \\text{1.0} \\\\ \\hline\\text{4} & \\text{26.7115} & \\text{1.5520} & \\text{4.6036} & \\text{1.0} & \\text{1.0} & \\text{0.0} & \\text{1.0} & \\text{1.0} \\\\ \\hline\\text{5} & \\text{10.6645} & \\text{1.5658} & \\text{4.8865} & \\text{1.0} & \\text{0.0} & \\text{0.0} & \\text{1.0} & \\text{1.0} \\\\ \\hline\\text{6} & \\text{2.5301} & \\text{3.6898} & \\text{8.2974} & \\text{1.0} & \\text{0.0} & \\text{0.0} & \\text{1.0} & \\text{1.0} \\\\ \\hline\\text{7} & \\text{21.1261} & \\text{0.2720} & \\text{6.0818} & \\text{1.0} & \\text{0.0} & \\text{0.0} & \\text{1.0} & \\text{1.0} \\\\ \\hline\\text{8} & \\text{151.3704} & \\text{5.3401} & \\text{1.1716} & \\text{1.0} & \\text{0.0} & \\text{0.0} & \\text{1.0} & \\text{1.0} \\\\ \\hline\\text{9} & \\text{9.5984} & \\text{0.4546} & \\text{6.0848} & \\text{1.0} & \\text{0.0} & \\text{0.0} & \\text{1.0} & \\text{1.0} \\\\ \\hline\\text{10} & \\text{22.5456} & \\text{0.3539} & \\text{4.0954} & \\text{1.0} & \\text{0.0} & \\text{0.0} & \\text{1.0} & \\text{1.0} \\\\ \\hline\\text{11} & \\text{335.1893} & \\text{1.1142} & \\text{0.0982} & \\text{1.0} & \\text{0.0} & \\text{0.0} & \\text{1.0} & \\text{1.0} \\\\ \\hline\\text{12} & \\text{43.3264} & \\text{0.2053} & \\text{4.2506} & \\text{1.0} & \\text{0.0} & \\text{0.0} & \\text{1.0} & \\text{1.0} \\\\ \\hline\\text{13} & \\text{1.1159} & \\text{0.1702} & \\text{4.1273} & \\text{0.0} & \\text{0.0} & \\text{0.0} & \\text{0.0} & \\text{1.0} \\\\ \\hline\\text{14} & \\text{5.7939} & \\text{2.7585} & \\text{5.0857} & \\text{1.0} & \\text{0.0} & \\text{0.0} & \\text{1.0} & \\text{1.0} \\\\ \\hline\\end{array}$"
      ]
     },
     "metadata": {},
     "execution_count":  26,
     "output_type": "execute_result"
    }
   ]
  },
  {
   "cell_type": "code",
   "execution_count": 27,
   "metadata": {},
   "source": [
    "\n",
    "% creating a subset of the not fraud observations, the exact amount of\n",
    "% which is equal to the newly manufactured fraud dataset\n",
    "part=cvpartition(height(ctdnf),'HoldOut',0.1396)"
   ],
   "outputs": [
    {
     "data": {
      "text/plain": [
       "part = \n",
       "Hold-out cross validation partition\n",
       "   NumObservations: 912597\n",
       "       NumTestSets: 1\n",
       "         TrainSize: 785199\n",
       "          TestSize: 127398\n",
       "          IsCustom: 0"
      ]
     },
     "metadata": {},
     "execution_count":  27,
     "output_type": "execute_result"
    }
   ]
  },
  {
   "cell_type": "code",
   "execution_count": 28,
   "metadata": {},
   "source": [
    "\n",
    "idxtest=test(part)"
   ],
   "outputs": [
    {
     "data": {
      "text/plain": [
       "idxtest = 912597x1 logical array\n",
       "   0\n",
       "   0\n",
       "   0\n",
       "   0\n",
       "   0\n",
       "   0\n",
       "   1\n",
       "   0\n",
       "   1\n",
       "   0"
      ]
     },
     "metadata": {},
     "execution_count":  28,
     "output_type": "execute_result"
    }
   ]
  },
  {
   "cell_type": "code",
   "execution_count": 29,
   "metadata": {},
   "source": [
    "\n",
    "ctd_nf_over=ctdnf(idxtest,:)"
   ],
   "outputs": [
    {
     "data": {
      "text/latex": [
       "$\\begin{array} {|c|c|c|c|c|c|c|c|c|}\\hline\\text{ } & \\text{distance_from_home} & \\text{distance_from_last_transaction} & \\text{ratio_to_median_purchase_price} & \\text{repeat_retailer} & \\text{used_chip} & \\text{used_pin_number} & \\text{online_order} & \\text{fraud} \\\\ \\hline\\text{1} & \\text{3.7240} & \\text{0.9568} & \\text{0.2785} & \\text{1.0} & \\text{0.0} & \\text{0.0} & \\text{1.0} & \\text{0.0} \\\\ \\hline\\text{2} & \\text{0.8766} & \\text{2.5036} & \\text{1.5170} & \\text{0.0} & \\text{0.0} & \\text{0.0} & \\text{0.0} & \\text{0.0} \\\\ \\hline\\text{3} & \\text{11.0852} & \\text{34.6614} & \\text{2.5308} & \\text{1.0} & \\text{0.0} & \\text{0.0} & \\text{1.0} & \\text{0.0} \\\\ \\hline\\text{4} & \\text{6.1947} & \\text{1.1420} & \\text{0.3072} & \\text{1.0} & \\text{0.0} & \\text{0.0} & \\text{0.0} & \\text{0.0} \\\\ \\hline\\text{5} & \\text{1.6951} & \\text{0.0692} & \\text{0.1853} & \\text{0.0} & \\text{0.0} & \\text{0.0} & \\text{0.0} & \\text{0.0} \\\\ \\hline\\text{6} & \\text{53.4656} & \\text{0.0884} & \\text{0.2046} & \\text{1.0} & \\text{0.0} & \\text{0.0} & \\text{1.0} & \\text{0.0} \\\\ \\hline\\text{7} & \\text{85.8373} & \\text{1.0351} & \\text{0.8683} & \\text{1.0} & \\text{1.0} & \\text{0.0} & \\text{1.0} & \\text{0.0} \\\\ \\hline\\text{8} & \\text{2.1481} & \\text{0.4164} & \\text{1.0374} & \\text{1.0} & \\text{1.0} & \\text{1.0} & \\text{0.0} & \\text{0.0} \\\\ \\hline\\text{9} & \\text{14.5969} & \\text{0.1200} & \\text{0.2148} & \\text{1.0} & \\text{0.0} & \\text{1.0} & \\text{0.0} & \\text{0.0} \\\\ \\hline\\text{10} & \\text{15.6130} & \\text{0.9952} & \\text{0.9449} & \\text{1.0} & \\text{1.0} & \\text{0.0} & \\text{1.0} & \\text{0.0} \\\\ \\hline\\text{11} & \\text{3.1173} & \\text{1.3474} & \\text{1.4956} & \\text{1.0} & \\text{0.0} & \\text{0.0} & \\text{1.0} & \\text{0.0} \\\\ \\hline\\text{12} & \\text{2.8680} & \\text{0.3178} & \\text{2.2177} & \\text{1.0} & \\text{0.0} & \\text{0.0} & \\text{0.0} & \\text{0.0} \\\\ \\hline\\text{13} & \\text{11.4118} & \\text{2.2332} & \\text{1.7617} & \\text{1.0} & \\text{1.0} & \\text{0.0} & \\text{1.0} & \\text{0.0} \\\\ \\hline\\text{14} & \\text{21.3774} & \\text{0.4083} & \\text{0.1908} & \\text{1.0} & \\text{1.0} & \\text{0.0} & \\text{1.0} & \\text{0.0} \\\\ \\hline\\end{array}$"
      ]
     },
     "metadata": {},
     "execution_count":  29,
     "output_type": "execute_result"
    }
   ]
  },
  {
   "cell_type": "code",
   "execution_count": 30,
   "metadata": {},
   "source": [
    "\n",
    "%concatinating the manufactured fraud dataset with the subset of not fraud\n",
    "%observations to create our ready to use dataset\n",
    "ctd_over=vertcat(ctd_fandrand,ctd_nf_over)"
   ],
   "outputs": [
    {
     "data": {
      "text/latex": [
       "$\\begin{array} {|c|c|c|c|c|c|c|c|c|}\\hline\\text{ } & \\text{distance_from_home} & \\text{distance_from_last_transaction} & \\text{ratio_to_median_purchase_price} & \\text{repeat_retailer} & \\text{used_chip} & \\text{used_pin_number} & \\text{online_order} & \\text{fraud} \\\\ \\hline\\text{1} & \\text{2.1320} & \\text{56.3724} & \\text{6.3587} & \\text{1.0} & \\text{0.0} & \\text{0.0} & \\text{1.0} & \\text{1.0} \\\\ \\hline\\text{2} & \\text{3.8031} & \\text{67.2411} & \\text{1.8729} & \\text{1.0} & \\text{0.0} & \\text{0.0} & \\text{1.0} & \\text{1.0} \\\\ \\hline\\text{3} & \\text{15.6950} & \\text{175.9892} & \\text{0.8556} & \\text{1.0} & \\text{0.0} & \\text{0.0} & \\text{1.0} & \\text{1.0} \\\\ \\hline\\text{4} & \\text{26.7115} & \\text{1.5520} & \\text{4.6036} & \\text{1.0} & \\text{1.0} & \\text{0.0} & \\text{1.0} & \\text{1.0} \\\\ \\hline\\text{5} & \\text{10.6645} & \\text{1.5658} & \\text{4.8865} & \\text{1.0} & \\text{0.0} & \\text{0.0} & \\text{1.0} & \\text{1.0} \\\\ \\hline\\text{6} & \\text{2.5301} & \\text{3.6898} & \\text{8.2974} & \\text{1.0} & \\text{0.0} & \\text{0.0} & \\text{1.0} & \\text{1.0} \\\\ \\hline\\text{7} & \\text{21.1261} & \\text{0.2720} & \\text{6.0818} & \\text{1.0} & \\text{0.0} & \\text{0.0} & \\text{1.0} & \\text{1.0} \\\\ \\hline\\text{8} & \\text{151.3704} & \\text{5.3401} & \\text{1.1716} & \\text{1.0} & \\text{0.0} & \\text{0.0} & \\text{1.0} & \\text{1.0} \\\\ \\hline\\text{9} & \\text{9.5984} & \\text{0.4546} & \\text{6.0848} & \\text{1.0} & \\text{0.0} & \\text{0.0} & \\text{1.0} & \\text{1.0} \\\\ \\hline\\text{10} & \\text{22.5456} & \\text{0.3539} & \\text{4.0954} & \\text{1.0} & \\text{0.0} & \\text{0.0} & \\text{1.0} & \\text{1.0} \\\\ \\hline\\text{11} & \\text{335.1893} & \\text{1.1142} & \\text{0.0982} & \\text{1.0} & \\text{0.0} & \\text{0.0} & \\text{1.0} & \\text{1.0} \\\\ \\hline\\text{12} & \\text{43.3264} & \\text{0.2053} & \\text{4.2506} & \\text{1.0} & \\text{0.0} & \\text{0.0} & \\text{1.0} & \\text{1.0} \\\\ \\hline\\text{13} & \\text{1.1159} & \\text{0.1702} & \\text{4.1273} & \\text{0.0} & \\text{0.0} & \\text{0.0} & \\text{0.0} & \\text{1.0} \\\\ \\hline\\text{14} & \\text{5.7939} & \\text{2.7585} & \\text{5.0857} & \\text{1.0} & \\text{0.0} & \\text{0.0} & \\text{1.0} & \\text{1.0} \\\\ \\hline\\end{array}$"
      ]
     },
     "metadata": {},
     "execution_count":  30,
     "output_type": "execute_result"
    }
   ]
  },
  {
   "cell_type": "markdown",
   "metadata": {},
   "source": [
    "\n",
    "Data visualization of sampling\n",
    ""
   ]
  },
  {
   "cell_type": "code",
   "execution_count": 31,
   "metadata": {},
   "source": [
    "histogram(ctd_sub.fraud);\n",
    "title(\"No Sampling\");"
   ],
   "outputs": [
    {
     "data": {
      "text/html": [
       "<center><img src=\"data:image/png;base64,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\" width=\"333\" alt=\"figure_7.png\"></center>"
      ]
     },
     "metadata": {},
     "execution_count":  31,
     "output_type": "execute_result"
    }
   ]
  },
  {
   "cell_type": "code",
   "execution_count": 32,
   "metadata": {},
   "source": [
    "\n",
    "histogram(ctd_under.fraud);\n",
    "title(\"Under Sampling\");"
   ],
   "outputs": [
    {
     "data": {
      "text/html": [
       "<center><img src=\"data:image/png;base64,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\" width=\"333\" alt=\"figure_8.png\"></center>"
      ]
     },
     "metadata": {},
     "execution_count":  32,
     "output_type": "execute_result"
    }
   ]
  },
  {
   "cell_type": "code",
   "execution_count": 33,
   "metadata": {},
   "source": [
    "\n",
    "histogram(ctd_over.fraud);\n",
    "title(\"Over Sampling\");"
   ],
   "outputs": [
    {
     "data": {
      "text/html": [
       "<center><img src=\"data:image/png;base64,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\" width=\"333\" alt=\"figure_9.png\"></center>"
      ]
     },
     "metadata": {},
     "execution_count":  33,
     "output_type": "execute_result"
    }
   ]
  }
 ],
 "metadata": {
  "kernelspec": {
   "display_name": "MATLAB (matlabkernel)",
   "language": "matlab",
   "name": "matlab"
  },
  "language_info": {
   "file_extension": ".m",
   "mimetype": "text/matlab",
   "name": "matlab",
   "nbconvert_exporter": "matlab",
   "pygments_lexer": "matlab",
   "version": "24.2.0.2712019"
  }
 },
 "nbformat": 4,
 "nbformat_minor": 4
}